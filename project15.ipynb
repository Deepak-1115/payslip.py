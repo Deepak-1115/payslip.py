{
  "cells": [
    {
      "cell_type": "code",
      "execution_count": null,
      "id": "791e7a57",
      "metadata": {
        "id": "791e7a57"
      },
      "outputs": [],
      "source": [
        "def Paydetails():\n",
        "    pt = 200   #professional tax\n",
        "    basic_pay = 0\n",
        "    pf = 0    #provident fund\n",
        "    Gross_sal = 0\n",
        "    income_tax = 0\n",
        "    Net_salary = 0\n",
        "    HI = 0     #health insurance\n",
        "    print(\" To Generate Salaryslip\")\n",
        "    print(\"_________________________\")\n",
        "    basic_pay = int(input(\"enter the basic pay:\"))\n",
        "    HRA = basic_pay * 0.1        #house rent allowance\n",
        "    MI = 0 #medical insurance    # medical insurance\n",
        "    TA = basic_pay * 0.05        #travelling allowance\n",
        "    print(\"-------------------------\")\n",
        "    Gross_sal = HRA + MI + TA + basic_pay\n",
        "    print(\"-------------------------\")\n",
        "    print(\"DEDUCTIONS:\")\n",
        "    print(\"-------------------------\")\n",
        "    if basic_pay < 25000:\n",
        "        income_tax = 0\n",
        "        print(\"income_tax:\", income_tax)\n",
        "    elif basic_pay > 25000 and basic_pay < 50000:\n",
        "        income_tax = basic_pay * 0.05\n",
        "        print(\"income_tax:\", income_tax)\n",
        "    elif basic_pay > 50000 and basic_pay < 75000:\n",
        "        income_tax = basic_pay * 0.1\n",
        "        print(\"income_tax:\", income_tax)\n",
        "    elif basic_pay > 75000 and basic_pay < 10000:\n",
        "        income_tax = basic_pay * 0.15\n",
        "        print(\"income_tax:\", income_tax)\n",
        "    else:\n",
        "        income_tax = basic_pay * 0.25\n",
        "        print(\"income_tax:\", income_tax)\n",
        "    pf = basic_pay * 0.08\n",
        "    print(\"pf:\", pf)\n",
        "    HI = basic_pay * 0.03\n",
        "    print(\"HI:\", HI)\n",
        "\n",
        "    Deduction_amount = income_tax + pf + HI + pt\n",
        "    print(\"-------------------------\")\n",
        "    print(\"Deduction_amount:\", Deduction_amount)\n",
        "    Net_salary = Gross_sal - Deduction_amount\n",
        "    print(\"Net_sal:\", Net_salary)\n",
        "    print(\"Gross_sal:\", Gross_sal)\n",
        "    "
      ]
    },
    {
      "cell_type": "code",
      "execution_count": null,
      "id": "6db11a0c",
      "metadata": {
        "id": "6db11a0c"
      },
      "outputs": [],
      "source": [
        "def Emp_payslip():\n",
        "    import random\n",
        "    list = ['deepak', 'deepu', 'chowdary']\n",
        "    \n",
        "    N = (input(\"are you an old employee: YES/no?\"))\n",
        "\n",
        "    if N == 'no' or N == 'NO':\n",
        "        ID = random.randint(0, 10000)\n",
        "        Name = input(\"enter your name:\")\n",
        "        print(\"Name:\", Name)\n",
        "        print(\"ID:\", ID)\n",
        "        Paydetails()\n",
        "    elif N == 'yes' or N == 'YES':\n",
        "        name = input(\"enter your name:\")\n",
        "        id = input(\"enter the id:\")\n",
        "        Paydetails()\n",
        "    else:\n",
        "        print(\"Invalid Input\")\n",
        "    \n",
        "    "
      ]
    },
    {
      "cell_type": "code",
      "execution_count": null,
      "id": "eab8bbd9",
      "metadata": {
        "id": "eab8bbd9",
        "outputId": "3d59fc8f-c87b-4043-c5c6-ba7cdb269a2e"
      },
      "outputs": [
        {
          "name": "stdout",
          "output_type": "stream",
          "text": [
            "are you an old employee: YES/no?no\n",
            "enter your name:bfdbdb\n",
            "Name: bfdbdb\n",
            "ID: 1183\n",
            " To Generate Salaryslip\n",
            "_________________________\n",
            "enter the basic pay:215563256\n",
            "-------------------------\n",
            "-------------------------\n",
            "DEDUCTIONS:\n",
            "-------------------------\n",
            "income_tax: 53890814.0\n",
            "pf: 17245060.48\n",
            "HI: 6466897.68\n",
            "-------------------------\n",
            "Deduction_amount: 77602972.16\n",
            "Net_sal: 170294772.24\n",
            "Gross_sal: 247897744.4\n"
          ]
        }
      ],
      "source": [
        "Emp_payslip()"
      ]
    },
    {
      "cell_type": "code",
      "execution_count": null,
      "id": "927033e9",
      "metadata": {
        "id": "927033e9",
        "outputId": "8553a153-639e-4057-ba86-4969515cde8c"
      },
      "outputs": [
        {
          "name": "stdout",
          "output_type": "stream",
          "text": [
            "<function Emp_payslip at 0x0000022E0E5DB4C0>\n"
          ]
        }
      ],
      "source": [
        "print(Emp_payslip)"
      ]
    },
    {
      "cell_type": "code",
      "execution_count": null,
      "id": "6be13b8f",
      "metadata": {
        "id": "6be13b8f"
      },
      "outputs": [],
      "source": []
    }
  ],
  "metadata": {
    "kernelspec": {
      "display_name": "Python 3 (ipykernel)",
      "language": "python",
      "name": "python3"
    },
    "language_info": {
      "codemirror_mode": {
        "name": "ipython",
        "version": 3
      },
      "file_extension": ".py",
      "mimetype": "text/x-python",
      "name": "python",
      "nbconvert_exporter": "python",
      "pygments_lexer": "ipython3",
      "version": "3.9.12"
    },
    "colab": {
      "provenance": []
    }
  },
  "nbformat": 4,
  "nbformat_minor": 5
}